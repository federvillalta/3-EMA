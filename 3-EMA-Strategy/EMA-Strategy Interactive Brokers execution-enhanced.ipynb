{
 "cells": [
  {
   "cell_type": "markdown",
   "metadata": {},
   "source": [
    "# EMA-Strategy Interactive Brokers execution"
   ]
  },
  {
   "cell_type": "code",
   "execution_count": 1,
   "metadata": {
    "scrolled": true
   },
   "outputs": [
    {
     "name": "stdout",
     "output_type": "stream",
     "text": [
      "1.2.4\n",
      "9.81.1\n"
     ]
    }
   ],
   "source": [
    "import ibapi\n",
    "import pandas as pd\n",
    "\n",
    "\n",
    "print(pd.__version__)\n",
    "print(ibapi.__version__)\n"
   ]
  },
  {
   "cell_type": "code",
   "execution_count": 2,
   "metadata": {
    "scrolled": true
   },
   "outputs": [
    {
     "name": "stderr",
     "output_type": "stream",
     "text": [
      "ERROR -1 2104 Market data farm connection is OK:usfarm.nj\n",
      "ERROR -1 2104 Market data farm connection is OK:usfuture\n",
      "ERROR -1 2104 Market data farm connection is OK:cashfarm\n",
      "ERROR -1 2104 Market data farm connection is OK:usfarm\n",
      "ERROR -1 2106 HMDS data farm connection is OK:euhmds\n",
      "ERROR -1 2106 HMDS data farm connection is OK:fundfarm\n",
      "ERROR -1 2106 HMDS data farm connection is OK:ushmds\n",
      "ERROR -1 2158 Sec-def data farm connection is OK:secdefil\n"
     ]
    },
    {
     "name": "stdout",
     "output_type": "stream",
     "text": [
      "Waiting for connection\n",
      "The next valid order id is:  8\n",
      "Connected\n",
      "Requesting tick data used for order conditions calculations\n",
      "Streaming tick data\n",
      "Tick data with enough size to calculate EMAs\n",
      "Waiting for 3-EMA signal\n",
      "Signal: Buy\n",
      "Stop Loss: 11925.5\n",
      "Take Profit: 11940.25\n",
      "Placing BUY order\n",
      "Placing STOP-LOSS order\n",
      "Placing TAKE-PROFIT order\n",
      "Full bracket order placed\n",
      "Order placed at time: 2023-01-23 12:25:04\n",
      "Sleep Time for Next Signal (300s)\n"
     ]
    },
    {
     "name": "stderr",
     "output_type": "stream",
     "text": [
      "ERROR 10 202 Order Canceled - reason:\n"
     ]
    },
    {
     "name": "stdout",
     "output_type": "stream",
     "text": [
      "Sleep Time Done\n",
      "Signal: Buy\n",
      "Stop Loss: 11925.75\n",
      "Take Profit: 11935.5\n",
      "Placing BUY order\n",
      "Placing STOP-LOSS order\n",
      "Placing TAKE-PROFIT order\n",
      "Full bracket order placed\n",
      "Order placed at time: 2023-01-23 12:38:04\n",
      "Sleep Time for Next Signal (300s)\n"
     ]
    },
    {
     "name": "stderr",
     "output_type": "stream",
     "text": [
      "ERROR 14 202 Order Canceled - reason:\n"
     ]
    },
    {
     "name": "stdout",
     "output_type": "stream",
     "text": [
      "Sleep Time Done\n",
      "Signal: Sell\n",
      "Stop Loss: 11923.0\n",
      "Take Profit: 11917.25\n",
      "Placing SELL order\n",
      "Placing STOP-LOSS order\n",
      "Placing TAKE-PROFIT order\n",
      "Full bracket order placed\n",
      "Order placed at time: 2023-01-23 12:49:03\n",
      "Sleep Time for Next Signal (300s)\n"
     ]
    },
    {
     "name": "stderr",
     "output_type": "stream",
     "text": [
      "ERROR 18 202 Order Canceled - reason:\n"
     ]
    },
    {
     "name": "stdout",
     "output_type": "stream",
     "text": [
      "Sleep Time Done\n",
      "Signal: Buy\n",
      "Stop Loss: 11948.5\n",
      "Take Profit: 11955.5\n",
      "Placing BUY order\n",
      "Placing STOP-LOSS order\n",
      "Placing TAKE-PROFIT order\n",
      "Full bracket order placed\n",
      "Order placed at time: 2023-01-23 13:13:04\n",
      "Sleep Time for Next Signal (300s)\n"
     ]
    },
    {
     "name": "stderr",
     "output_type": "stream",
     "text": [
      "ERROR 21 202 Order Canceled - reason:\n",
      "ERROR 21 202 Order Canceled - reason:\n"
     ]
    },
    {
     "name": "stdout",
     "output_type": "stream",
     "text": [
      "Sleep Time Done\n",
      "Signal: Buy\n",
      "Stop Loss: 11961.0\n",
      "Take Profit: 11965.25\n",
      "Placing BUY order\n",
      "Placing STOP-LOSS order\n",
      "Placing TAKE-PROFIT order\n",
      "Full bracket order placed\n",
      "Order placed at time: 2023-01-23 13:28:04\n",
      "Sleep Time for Next Signal (300s)\n"
     ]
    },
    {
     "name": "stderr",
     "output_type": "stream",
     "text": [
      "ERROR 26 202 Order Canceled - reason:\n"
     ]
    },
    {
     "name": "stdout",
     "output_type": "stream",
     "text": [
      "Sleep Time Done\n",
      "Signal: Buy\n",
      "Stop Loss: 11967.25\n",
      "Take Profit: 11970.75\n",
      "Placing BUY order\n",
      "Placing STOP-LOSS order\n",
      "Placing TAKE-PROFIT order\n",
      "Full bracket order placed\n",
      "Order placed at time: 2023-01-23 13:35:04\n",
      "Sleep Time for Next Signal (300s)\n"
     ]
    },
    {
     "name": "stderr",
     "output_type": "stream",
     "text": [
      "ERROR 29 202 Order Canceled - reason:\n",
      "ERROR 29 202 Order Canceled - reason:\n"
     ]
    },
    {
     "name": "stdout",
     "output_type": "stream",
     "text": [
      "Sleep Time Done\n",
      "Signal: Buy\n",
      "Stop Loss: 11973.0\n",
      "Take Profit: 11974.25\n",
      "Placing BUY order\n",
      "Placing STOP-LOSS order\n",
      "Placing TAKE-PROFIT order\n",
      "Full bracket order placed\n",
      "Order placed at time: 2023-01-23 13:43:05\n",
      "Sleep Time for Next Signal (300s)\n"
     ]
    },
    {
     "name": "stderr",
     "output_type": "stream",
     "text": [
      "ERROR 33 202 Order Canceled - reason:\n",
      "ERROR 33 202 Order Canceled - reason:\n"
     ]
    },
    {
     "name": "stdout",
     "output_type": "stream",
     "text": [
      "Sleep Time Done\n",
      "Signal: Sell\n",
      "Stop Loss: 11902.0\n",
      "Take Profit: 11892.75\n",
      "Placing SELL order\n",
      "Placing STOP-LOSS order\n",
      "Placing TAKE-PROFIT order\n",
      "Full bracket order placed\n",
      "Order placed at time: 2023-01-23 15:26:04\n",
      "Sleep Time for Next Signal (300s)\n"
     ]
    },
    {
     "name": "stderr",
     "output_type": "stream",
     "text": [
      "ERROR 37 202 Order Canceled - reason:\n",
      "ERROR 37 202 Order Canceled - reason:\n"
     ]
    },
    {
     "name": "stdout",
     "output_type": "stream",
     "text": [
      "Sleep Time Done\n",
      "Signal: Sell\n",
      "Stop Loss: 11902.5\n",
      "Take Profit: 11891.5\n",
      "Placing SELL order\n",
      "Placing STOP-LOSS order\n",
      "Placing TAKE-PROFIT order\n",
      "Full bracket order placed\n",
      "Order placed at time: 2023-01-23 15:33:04\n",
      "Sleep Time for Next Signal (300s)\n"
     ]
    },
    {
     "name": "stderr",
     "output_type": "stream",
     "text": [
      "ERROR 42 202 Order Canceled - reason:\n"
     ]
    },
    {
     "name": "stdout",
     "output_type": "stream",
     "text": [
      "Sleep Time Done\n",
      "Signal: Buy\n",
      "Stop Loss: 11931.5\n",
      "Take Profit: 11938.25\n",
      "Placing BUY order\n",
      "Placing STOP-LOSS order\n",
      "Placing TAKE-PROFIT order\n",
      "Full bracket order placed\n",
      "Order placed at time: 2023-01-23 16:00:04\n",
      "Sleep Time for Next Signal (300s)\n"
     ]
    },
    {
     "name": "stderr",
     "output_type": "stream",
     "text": [
      "ERROR 46 202 Order Canceled - reason:\n"
     ]
    },
    {
     "name": "stdout",
     "output_type": "stream",
     "text": [
      "Sleep Time Done\n"
     ]
    },
    {
     "ename": "KeyboardInterrupt",
     "evalue": "",
     "output_type": "error",
     "traceback": [
      "\u001b[1;31m---------------------------------------------------------------------------\u001b[0m",
      "\u001b[1;31mKeyboardInterrupt\u001b[0m                         Traceback (most recent call last)",
      "\u001b[1;32m~\\AppData\\Local\\Temp\\ipykernel_24120\\1704009416.py\u001b[0m in \u001b[0;36m<module>\u001b[1;34m\u001b[0m\n\u001b[0;32m    242\u001b[0m \u001b[1;32mwhile\u001b[0m \u001b[1;32mTrue\u001b[0m\u001b[1;33m:\u001b[0m\u001b[1;33m\u001b[0m\u001b[1;33m\u001b[0m\u001b[0m\n\u001b[0;32m    243\u001b[0m     \u001b[0mcheck_for_trade\u001b[0m\u001b[1;33m(\u001b[0m\u001b[0mdf\u001b[0m\u001b[1;33m,\u001b[0m \u001b[0mNQ_contract\u001b[0m\u001b[1;33m)\u001b[0m\u001b[1;33m\u001b[0m\u001b[1;33m\u001b[0m\u001b[0m\n\u001b[1;32m--> 244\u001b[1;33m     \u001b[0mtime\u001b[0m\u001b[1;33m.\u001b[0m\u001b[0msleep\u001b[0m\u001b[1;33m(\u001b[0m\u001b[1;36m1\u001b[0m\u001b[1;33m)\u001b[0m\u001b[1;33m\u001b[0m\u001b[1;33m\u001b[0m\u001b[0m\n\u001b[0m\u001b[0;32m    245\u001b[0m \u001b[1;33m\u001b[0m\u001b[0m\n\u001b[0;32m    246\u001b[0m \u001b[0mapp\u001b[0m\u001b[1;33m.\u001b[0m\u001b[0mdisconnect\u001b[0m\u001b[1;33m(\u001b[0m\u001b[1;33m)\u001b[0m\u001b[1;33m\u001b[0m\u001b[1;33m\u001b[0m\u001b[0m\n",
      "\u001b[1;31mKeyboardInterrupt\u001b[0m: "
     ]
    }
   ],
   "source": [
    "from ibapi.client import EClient\n",
    "from ibapi.wrapper import EWrapper\n",
    "from ibapi.contract import Contract\n",
    "from ibapi.order import *\n",
    "\n",
    "import pandas as pd\n",
    "import threading\n",
    "import time\n",
    "import datetime\n",
    "\n",
    "\n",
    "class IBapi(EWrapper, EClient):\n",
    "    def __init__(self):\n",
    "        EClient.__init__(self, self)\n",
    "        self.bardata = {} #Initialize dictionary to store bar data\n",
    "\n",
    "    def nextValidId(self, orderId: int):\n",
    "        super().nextValidId(orderId)\n",
    "        self.nextorderId = orderId\n",
    "        print('The next valid order id is: ', self.nextorderId)\n",
    "\n",
    "    def tick_df(self, reqId, contract):\n",
    "        ''' custom function to init DataFrame and request Tick Data '''\n",
    "        self.bardata[reqId] = pd.DataFrame(columns=['time', 'price'])\n",
    "        self.bardata[reqId].set_index('time', inplace=True)\n",
    "        self.reqTickByTickData(reqId, contract, \"Last\", 0, True)\n",
    "        return self.bardata[reqId]\n",
    "\n",
    "    def tickByTickAllLast(self, reqId, tickType, time, price, size, tickAtrribLast, exchange, specialConditions):\n",
    "        if tickType == 1:\n",
    "            self.bardata[reqId].loc[pd.to_datetime(time, unit='s')] = price\n",
    "\n",
    "    def futures_contract(self, symbol, secType='FUT', exchange='CME'):\n",
    "        ''' custom function to create contract '''\n",
    "        contract = Contract()\n",
    "        contract.symbol = symbol\n",
    "        contract.secType = secType\n",
    "        contract.exchange = exchange\n",
    "        contract.lastTradeDateOrContractMonth = \"202303\"\n",
    "        contract.multiplier = 20\n",
    "        return contract\n",
    "\n",
    "\n",
    "def run_loop():\n",
    "    app.run()\n",
    "\n",
    "def submit_order(contract, direction, inv_direction, stp_price, tp_price, qty=1):\n",
    "    #Create order object\n",
    "    order = Order()\n",
    "    order.action = direction\n",
    "    order.totalQuantity = qty\n",
    "    order.orderType = 'MKT'\n",
    "    order.eTradeOnly = ''\n",
    "    order.firmQuoteOnly = ''\n",
    "    order.orderId = app.nextorderId\n",
    "    app.nextorderId += 1\n",
    "    order.eTradeOnly = ''\n",
    "    order.firmQuoteOnly = ''\n",
    "    order.transmit = False\n",
    "    \n",
    "    stop_order = Order()\n",
    "    stop_order.action = inv_direction\n",
    "    stop_order.totalQuantity = qty\n",
    "    stop_order.orderType = 'STP'\n",
    "    stop_order.auxPrice = stp_price\n",
    "    stop_order.orderId = app.nextorderId\n",
    "    app.nextorderId += 1\n",
    "    stop_order.parentId = order.orderId\n",
    "    stop_order.eTradeOnly = ''\n",
    "    stop_order.firmQuoteOnly = ''\n",
    "    stop_order.transmit = False\n",
    "    \n",
    "    takeprofit_order = Order()\n",
    "    takeprofit_order.action = inv_direction\n",
    "    takeprofit_order.totalQuantity = qty\n",
    "    takeprofit_order.orderType = 'LMT'\n",
    "    takeprofit_order.lmtPrice = tp_price\n",
    "    takeprofit_order.orderId = app.nextorderId\n",
    "    app.nextorderId += 1\n",
    "    takeprofit_order.parentId = order.orderId\n",
    "    takeprofit_order.eTradeOnly = ''\n",
    "    takeprofit_order.firmQuoteOnly = ''\n",
    "    takeprofit_order.transmit = True\n",
    "  \n",
    "    #submit order\n",
    "    time.sleep(1)\n",
    "    print('Placing {} order'.format(direction))\n",
    "    app.placeOrder(order.orderId, contract, order)\n",
    "    time.sleep(1)\n",
    "    print('Placing STOP-LOSS order')\n",
    "    app.placeOrder(stop_order.orderId, contract, stop_order)\n",
    "    time.sleep(1)\n",
    "    print('Placing TAKE-PROFIT order')\n",
    "    app.placeOrder(takeprofit_order.orderId, contract, takeprofit_order)\n",
    "    app.nextorderId += 1\n",
    "    \n",
    "    \n",
    "    print('Full bracket order placed')\n",
    "    print('Order placed at time: ' + str(datetime.datetime.now().strftime(\"%Y-%m-%d %H:%M:%S\")))\n",
    "    print('Sleep Time for Next Signal (300s)')\n",
    "    time.sleep(300)\n",
    "    print('Sleep Time Done')\n",
    "    \n",
    "\n",
    "def check_for_trade(df, contract):\n",
    "\n",
    "    start_time = df.index[-1] - pd.Timedelta(minutes=3)\n",
    "    df.index = pd.to_datetime(df.index, unit='m')\n",
    "    \n",
    "    data_open = df.resample('min').first()\n",
    "    data_close = df.resample('min').last()\n",
    "    data_high = df.resample('min').max()\n",
    "    data_low = df.resample('min').min()\n",
    "    \n",
    "    data = df.copy()\n",
    "    \n",
    "    data = data.resample('min').mean()\n",
    "    data['Open'] = data_open\n",
    "    data['Close'] = data_close\n",
    "    data['High'] = data_high\n",
    "    data['Low'] = data_low\n",
    "\n",
    "    \n",
    "    trend_lag  = 3\n",
    "    \n",
    "\n",
    "    data['ema-short'] = data['Close'].shift(1).ewm(alpha=(2/(9+1))).mean()\n",
    "    data['ema-short-trend'] = data['ema-short'] - data['ema-short'].shift(trend_lag)\n",
    "\n",
    "    data['ema-mid'] = data['Close'].shift(1).ewm(alpha=(2/(50+1))).mean()\n",
    "    data['ema-mid-trend'] = data['ema-mid'] - data['ema-mid'].shift(trend_lag)\n",
    "    data['lower_threshold'] = data['ema-mid'] * 0.99995\n",
    "    data['higher_threshold'] = data['ema-mid'] * 1.00015\n",
    "\n",
    "    data['ema-long'] = data['Close'].shift(1).ewm(alpha=(2/(100+1))).mean()\n",
    "    data['ema-long-trend'] = data['ema-long'] - data['ema-long'].shift(trend_lag)\n",
    "\n",
    "    def quarter_round(x):\n",
    "        return round(x*4)/4\n",
    "    \n",
    "    # Buy signal\n",
    "    if (data['ema-short-trend'][-1] > 0) and (data['ema-mid-trend'][-1] > 0) and (data['ema-long-trend'][-1] > 0):\n",
    "        \n",
    "        # Once trend is confirmed, evaluate if the long and short moving average have the percentage difference \n",
    "        # from the middle averge.\n",
    "        # For bullish: short MA should be above higher threshold, long MA below the lower threshold.\n",
    "        #if (data['ema-short'][-1] > data['higher_threshold'][i]) and (data['ema-long'][-1] < data['lower_threshold'][i]):\n",
    "            \n",
    "\n",
    "\n",
    "        if (data['Close'][-3] < data['ema-short'][-3]) and (data['Close'][-2] > data['ema-short'][-2]):\n",
    "                \n",
    "            stp_p = (data['Open'][-2] + data['Close'][-2])/2\n",
    "            stp_p = quarter_round(stp_p)\n",
    "            \n",
    "            take_p = abs(data['High'][-2] - data['Open'][-2])\n",
    "            tp_p = data['Close'][-2] + take_p\n",
    "            tp_p = quarter_round(tp_p)\n",
    "\n",
    "            print('Signal: Buy')\n",
    "            print('Stop Loss: ' + str(stp_p))\n",
    "            print('Take Profit: ' + str(tp_p))\n",
    "\n",
    "            submit_order(contract, direction='BUY', inv_direction='SELL', stp_price=stp_p, tp_price=tp_p)\n",
    "            return True\n",
    "\n",
    "\n",
    "    # Bearish rules\n",
    "    elif (data['ema-short-trend'][-1] < 0) and (data['ema-mid-trend'][-1] < 0) and (data['ema-long-trend'][-1] < 0):\n",
    "\n",
    "\n",
    "        # For bearish: short MA should be below lower threshold, long MA above the higher threshold\n",
    "        #if (data['ema-short'][-1] < data['lower_threshold'][-1]) and (data['ema-long'][-1] > data['higher_threshold'][-1]):\n",
    "            \n",
    "\n",
    "\n",
    "        if (data['Close'][-3] > data['ema-short'][-3]) and (data['Close'][-2] < data['ema-short'][-2]):\n",
    "                \n",
    "            stp_p = (data['Close'][-2] + data['Open'][-2])/2\n",
    "            stp_p = quarter_round(stp_p)\n",
    "            \n",
    "            take_p = abs(data['Low'][-2] - data['Open'][-2])\n",
    "            tp_p = data['Close'][-2] - take_p\n",
    "            tp_p = quarter_round(tp_p)\n",
    "            print('Signal: Sell')\n",
    "            print('Stop Loss: ' + str(stp_p))\n",
    "            print('Take Profit: ' + str(tp_p))\n",
    "            submit_order(contract, direction='SELL', inv_direction='BUY', stp_price=stp_p, tp_price=tp_p)\n",
    "            return True\n",
    "\n",
    "\n",
    "#Main\n",
    "app = IBapi()\n",
    "app.nextorderId = None\n",
    "app.connect('127.0.0.1', 7497, 123)\n",
    "\n",
    "#Start the socket in a thread\n",
    "api_thread = threading.Thread(target=run_loop)\n",
    "api_thread.start()\n",
    "\n",
    "#Check if the API is connected via orderid\n",
    "while True:\n",
    "    if isinstance(app.nextorderId, int):\n",
    "        print('Connected')\n",
    "        break\n",
    "    else:\n",
    "        print('Waiting for connection')\n",
    "        time.sleep(1)\n",
    "\n",
    "#Create contract object\n",
    "NQ_contract = app.futures_contract('NQ')\n",
    "\n",
    "#-----------------------------------------------------------#\n",
    "\n",
    "#Request tick data for google using custom function\n",
    "df = app.tick_df(401, NQ_contract)\n",
    "\n",
    "print('Requesting tick data used for order conditions calculations')\n",
    "\n",
    "#Verify data stream\n",
    "time.sleep(10)\n",
    "for i in range(100):\n",
    "    if len(df) > 0:\n",
    "        break\n",
    "    \n",
    "    time.sleep(0.3)\n",
    "\n",
    "if i == 99:\n",
    "    app.disconnect()\n",
    "    raise Exception ('Error with Tick data stream')\n",
    "\n",
    "print('Streaming tick data')\n",
    "\n",
    "#Check if there is enough data\n",
    "data_length = df.index[-1] - df.index[0]\n",
    "if data_length.seconds < 300:\n",
    "    time.sleep(300 - data_length.seconds)\n",
    "    \n",
    "print('Tick data with enough size to calculate EMAs')\n",
    "print('Waiting for 3-EMA signal')\n",
    "#Main loop\n",
    "while True:\n",
    "    check_for_trade(df, NQ_contract)\n",
    "    time.sleep(1)\n",
    "\n",
    "app.disconnect()"
   ]
  },
  {
   "cell_type": "markdown",
   "metadata": {},
   "source": [
    "- New strat\n",
    "- Optimization\n",
    "- Storage structure\n",
    "- Fix when error happens rerun code"
   ]
  },
  {
   "cell_type": "code",
   "execution_count": null,
   "metadata": {},
   "outputs": [],
   "source": []
  }
 ],
 "metadata": {
  "kernelspec": {
   "display_name": "Python 3",
   "language": "python",
   "name": "python3"
  },
  "language_info": {
   "codemirror_mode": {
    "name": "ipython",
    "version": 3
   },
   "file_extension": ".py",
   "mimetype": "text/x-python",
   "name": "python",
   "nbconvert_exporter": "python",
   "pygments_lexer": "ipython3",
   "version": "3.8.5"
  }
 },
 "nbformat": 4,
 "nbformat_minor": 4
}
